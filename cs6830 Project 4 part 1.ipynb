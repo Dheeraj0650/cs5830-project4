{
 "cells": [
  {
   "cell_type": "code",
   "execution_count": null,
   "id": "ef5419f2",
   "metadata": {},
   "outputs": [],
   "source": [
    "import pandas as pd\n",
    "import numpy as np\n",
    "from sklearn.neighbors import NearestNeighbors\n",
    "import random\n",
    "from scipy import stats\n",
    "from sklearn.model_selection import train_test_split\n",
    "from sklearn.metrics import precision_recall_fscore_support\n",
    "from sklearn.metrics import accuracy_score\n",
    "import matplotlib.pyplot as plt\n",
    "import statistics\n",
    "from sklearn.model_selection import KFold"
   ]
  },
  {
   "cell_type": "markdown",
   "id": "234fe6ac",
   "metadata": {},
   "source": [
    "ANALYSIS 1:"
   ]
  },
  {
   "cell_type": "code",
   "execution_count": null,
   "id": "4bf24883",
   "metadata": {},
   "outputs": [],
   "source": [
    "df = pd.read_csv('cleveland.csv')"
   ]
  },
  {
   "cell_type": "code",
   "execution_count": null,
   "id": "bbaff97f",
   "metadata": {},
   "outputs": [],
   "source": [
    "df.head()"
   ]
  },
  {
   "cell_type": "code",
   "execution_count": null,
   "id": "9aba1e4c",
   "metadata": {},
   "outputs": [],
   "source": [
    "len(df)\n",
    "#303 points"
   ]
  },
  {
   "cell_type": "code",
   "execution_count": null,
   "id": "e3b76b80",
   "metadata": {},
   "outputs": [],
   "source": [
    "df['num'] = df.num.apply(lambda x: (1 if x>0 else 0))"
   ]
  },
  {
   "cell_type": "code",
   "execution_count": null,
   "id": "9576228a",
   "metadata": {},
   "outputs": [],
   "source": [
    "df.isna()\n",
    "df.dropna()"
   ]
  },
  {
   "cell_type": "code",
   "execution_count": null,
   "id": "e98be297",
   "metadata": {},
   "outputs": [],
   "source": [
    "df_filtered=df[df.thal!='?']"
   ]
  },
  {
   "cell_type": "code",
   "execution_count": null,
   "id": "e2f99a5e",
   "metadata": {},
   "outputs": [],
   "source": [
    "len(df_filtered)"
   ]
  },
  {
   "cell_type": "code",
   "execution_count": null,
   "id": "e3197ee4",
   "metadata": {},
   "outputs": [],
   "source": [
    "df_filtered[df_filtered['ca'] == '?']"
   ]
  },
  {
   "cell_type": "code",
   "execution_count": null,
   "id": "557ce8b1",
   "metadata": {},
   "outputs": [],
   "source": [
    "df_filtered=df_filtered[df_filtered.ca!='?']"
   ]
  },
  {
   "cell_type": "code",
   "execution_count": null,
   "id": "f6a67df5",
   "metadata": {},
   "outputs": [],
   "source": [
    "len(df_filtered)"
   ]
  },
  {
   "cell_type": "code",
   "execution_count": null,
   "id": "b014b8e7",
   "metadata": {},
   "outputs": [],
   "source": [
    "for column in list(df_filtered.columns):\n",
    "    df_filtered[column] = df_filtered[column].astype(float)"
   ]
  },
  {
   "cell_type": "code",
   "execution_count": null,
   "id": "8de1ad72",
   "metadata": {},
   "outputs": [],
   "source": [
    "df_filtered=(df_filtered-df_filtered.min())/(df_filtered.max()-df_filtered.min())"
   ]
  },
  {
   "cell_type": "code",
   "execution_count": null,
   "id": "942e10cc",
   "metadata": {},
   "outputs": [],
   "source": [
    "for column in list(df_filtered.columns)[:-1]:\n",
    "    (r,p)=stats.pearsonr(df_filtered[column], df_filtered['num'])\n",
    "    if p<0.05:\n",
    "        print(\"The pearson correlation between \"+column+\" and value is : \"+str(r)+\" \"+str(p))"
   ]
  },
  {
   "cell_type": "markdown",
   "id": "12f280d6",
   "metadata": {},
   "source": [
    "For the above column names, we have the pearson corrlation with the output less than 0.05, which means that we are confident that these columns are correlated"
   ]
  },
  {
   "cell_type": "code",
   "execution_count": null,
   "id": "1c5df216",
   "metadata": {},
   "outputs": [],
   "source": [
    "X = df_filtered[['age', 'sex', 'cp', 'trestbps', 'restecg', 'thalach',\n",
    "       'exang', 'oldpeak', 'slope', 'ca', 'thal']].values\n",
    "# X=df_filtered[['trestbps',  'cp']].values"
   ]
  },
  {
   "cell_type": "code",
   "execution_count": null,
   "id": "5b14bfe4",
   "metadata": {},
   "outputs": [],
   "source": [
    "Y=df_filtered['num'].values"
   ]
  },
  {
   "cell_type": "code",
   "execution_count": null,
   "id": "15fea742",
   "metadata": {},
   "outputs": [],
   "source": [
    " X_train, X_test, y_train, y_test = train_test_split(X, Y, test_size=0.1,random_state=42)"
   ]
  },
  {
   "cell_type": "markdown",
   "id": "fca61275",
   "metadata": {},
   "source": [
    "We have filtered and normalized out data till this step, now we create our functions for training and testing which we would later use to train on the k-folded data"
   ]
  },
  {
   "cell_type": "code",
   "execution_count": null,
   "id": "0a38c29c",
   "metadata": {},
   "outputs": [],
   "source": [
    "def evaluate(model,X_train,y_train,labels=[0,1]):\n",
    "    distances, indices = model.kneighbors(X_train)\n",
    "    y_pred=[]\n",
    "    for i in range(len(X_train)):\n",
    "        nearest_neighbours=indices[i]\n",
    "        healthy=0\n",
    "        sick=0\n",
    "        for neighbour in nearest_neighbours:\n",
    "            if y_train[neighbour]==0:\n",
    "                healthy+=1\n",
    "            else:\n",
    "                sick+=1\n",
    "        if healthy>sick:\n",
    "            y_pred.append(0)\n",
    "        else:\n",
    "            y_pred.append(1)\n",
    "    (p,r,f,s) = precision_recall_fscore_support(y_train, y_pred, labels=[0,1])\n",
    "    return (p,r,f,s)"
   ]
  },
  {
   "cell_type": "code",
   "execution_count": null,
   "id": "7b883767",
   "metadata": {},
   "outputs": [],
   "source": [
    "def test(model,y_train,X_test,y_test,labels=[0,1]):\n",
    "    distances, indices = model.kneighbors(X_test)\n",
    "    y_pred=[]\n",
    "    for i in range(len(X_test)):\n",
    "        nearest_neighbours=indices[i]\n",
    "        healthy=0\n",
    "        sick=0\n",
    "        for neighbour in nearest_neighbours:\n",
    "            if y_train[neighbour]==0:\n",
    "                healthy+=1\n",
    "            else:\n",
    "                sick+=1\n",
    "        if healthy>sick:\n",
    "            y_pred.append(0)\n",
    "        else:\n",
    "            y_pred.append(1)\n",
    "    (p,r,f,s) = precision_recall_fscore_support(y_test, y_pred, labels=[0,1])\n",
    "    return (p,r,f,s)"
   ]
  },
  {
   "cell_type": "code",
   "execution_count": null,
   "id": "5925efce",
   "metadata": {},
   "outputs": [],
   "source": [
    "best_f_score_model=[0,0]\n",
    "for i in range(2,len(X)//2):\n",
    "#     X_train, X_test, y_train, y_test = train_test_split(X, Y, test_size=0.1,random_state=42)\n",
    "    kfold = KFold(10)\n",
    "    nn = NearestNeighbors(n_neighbors=i, metric='euclidean', algorithm='auto')\n",
    "    for train, test in kfold.split(X,Y):\n",
    "        X_train,y_train = df_filtered[['age', 'sex', 'cp', 'trestbps', 'restecg', 'thalach',\n",
    "       'exang', 'oldpeak', 'slope', 'ca', 'thal']].iloc[train], df_filtered[['num']].iloc[train]\n",
    "        X_test,y_test=df_filtered[['age', 'sex', 'cp', 'trestbps', 'restecg', 'thalach',\n",
    "       'exang', 'oldpeak', 'slope', 'ca', 'thal']].iloc[test], df_filtered[['num']].iloc[test]\n",
    "        model=nn.fit(X_train.values)\n",
    "        distances, indices = model.kneighbors(X_test.values)\n",
    "        y_pred=[]\n",
    "        for i in range(len(X_test.values)):\n",
    "            nearest_neighbours=indices[i]\n",
    "            healthy=0\n",
    "            sick=0\n",
    "            for neighbour in nearest_neighbours:\n",
    "                if y_train.values[neighbour]==0:\n",
    "                    healthy+=1\n",
    "                else:\n",
    "                    sick+=1\n",
    "            if healthy>sick:\n",
    "                y_pred.append(0)\n",
    "            else:\n",
    "                y_pred.append(1)\n",
    "        (p,r,f,s) = precision_recall_fscore_support(y_test.values, y_pred, labels=[0,1])\n",
    "\n",
    "    #     print(f'precision={p}, recall={r}, f-score={f}, support={s}')\n",
    "        if best_f_score_model[0]<f[0]:\n",
    "            best_f_score_model[0]=max(best_f_score_model[0],f[0])\n",
    "            best_f_score_model[1]=i"
   ]
  },
  {
   "cell_type": "code",
   "execution_count": null,
   "id": "8420ecc8",
   "metadata": {},
   "outputs": [],
   "source": [
    "best_f_score_model"
   ]
  },
  {
   "cell_type": "markdown",
   "id": "64abb5ae",
   "metadata": {},
   "source": [
    "The Best model is the one with 28 nearest neighbours, with the above 9 attributes.\n"
   ]
  },
  {
   "cell_type": "code",
   "execution_count": null,
   "id": "9474ac09",
   "metadata": {},
   "outputs": [],
   "source": [
    "scores_for_k_value=[]\n",
    "best_f_score_model=[0,0]\n",
    "for i in range(2,len(X)//2):\n",
    "    sample_score_array=[]\n",
    "#     X_train, X_test, y_train, y_test = train_test_split(X, Y, test_size=0.1,random_state=42)\n",
    "    kfold = KFold(10)\n",
    "    nn = NearestNeighbors(n_neighbors=i, metric='euclidean', algorithm='auto')\n",
    "    for train, test in kfold.split(X,Y):\n",
    "        X_train,y_train = df_filtered[['age', 'sex', 'cp', 'trestbps', 'restecg', 'thalach',\n",
    "       'exang', 'oldpeak', 'slope', 'ca', 'thal']].iloc[train], df_filtered[['num']].iloc[train]\n",
    "        X_test,y_test=df_filtered[['age', 'sex', 'cp', 'trestbps', 'restecg', 'thalach',\n",
    "       'exang', 'oldpeak', 'slope', 'ca', 'thal']].iloc[test], df_filtered[['num']].iloc[test]\n",
    "        model=nn.fit(X_train.values)\n",
    "        distances, indices = model.kneighbors(X_test.values)\n",
    "        y_pred=[]\n",
    "        for i in range(len(X_test.values)):\n",
    "            nearest_neighbours=indices[i]\n",
    "            healthy=0\n",
    "            sick=0\n",
    "            for neighbour in nearest_neighbours:\n",
    "                if y_train.values[neighbour]==0:\n",
    "                    healthy+=1\n",
    "                else:\n",
    "                    sick+=1\n",
    "            if healthy>sick:\n",
    "                y_pred.append(0)\n",
    "            else:\n",
    "                y_pred.append(1)\n",
    "        (p,r,f,s) = precision_recall_fscore_support(y_test.values, y_pred, labels=[0,1])\n",
    "        sample_score_array.append((p,r,f,s))\n",
    "\n",
    "        if best_f_score_model[0]<f[0]:\n",
    "            best_f_score_model[0]=max(best_f_score_model[0],f[0])\n",
    "            best_f_score_model[1]=i\n",
    "    scores_for_k_value.append(sample_score_array)"
   ]
  },
  {
   "cell_type": "code",
   "execution_count": null,
   "id": "56ab6542",
   "metadata": {},
   "outputs": [],
   "source": [
    "f1_scores=[]\n",
    "for k_measure_array in scores_for_k_value:\n",
    "    score_sum=0\n",
    "    for scores in k_measure_array:\n",
    "            score_sum+=scores[2][0]\n",
    "    score_sum/=10\n",
    "    f1_scores.append(score_sum)"
   ]
  },
  {
   "cell_type": "code",
   "execution_count": null,
   "id": "15046c89",
   "metadata": {},
   "outputs": [],
   "source": [
    "for i in range(1,len(f1_scores)):\n",
    "    print(i+1,f1_scores[i])"
   ]
  },
  {
   "cell_type": "code",
   "execution_count": null,
   "id": "21fb74aa",
   "metadata": {},
   "outputs": [],
   "source": [
    "import matplotlib.pyplot as plt\n",
    "plt.plot(range(2,len(X)//2),f1_scores)\n",
    "plt.savefig(\"img1.png\")"
   ]
  },
  {
   "cell_type": "code",
   "execution_count": null,
   "id": "6341590a",
   "metadata": {},
   "outputs": [],
   "source": [
    "median_scores=[]\n",
    "for k_measure_array in scores_for_k_value:\n",
    "    f1_scores_internal=[]\n",
    "    for scores in k_measure_array:\n",
    "            f1_scores_internal.append(scores[2][0])\n",
    "            f1_scores_internal.sort()\n",
    "    median_scores.append((f1_scores_internal[4]+f1_scores_internal[5])/2)"
   ]
  },
  {
   "cell_type": "code",
   "execution_count": null,
   "id": "443344a2",
   "metadata": {},
   "outputs": [],
   "source": [
    "for i in range(1,len(median_scores)):\n",
    "    print(i+1,median_scores[i])"
   ]
  },
  {
   "cell_type": "code",
   "execution_count": null,
   "id": "a291006d",
   "metadata": {},
   "outputs": [],
   "source": [
    "import matplotlib.pyplot as plt\n",
    "plt.plot(range(2,len(X)//2),median_scores)\n",
    "plt.savefig(\"img2.png\")"
   ]
  },
  {
   "cell_type": "code",
   "execution_count": null,
   "id": "addf4a89",
   "metadata": {},
   "outputs": [],
   "source": [
    "X = df_filtered[['age', 'sex', 'cp', 'trestbps', 'restecg', 'thalach',\n",
    "       'exang', 'oldpeak', 'slope', 'ca', 'thal']].values\n",
    "Y=df_filtered['num'].values\n",
    "X_train, X_test, y_train, y_test = train_test_split(X, Y, test_size=0.1,random_state=42)\n",
    "model= NearestNeighbors(n_neighbors=8, metric='euclidean', algorithm='auto').fit(X_train)\n",
    "distances, indices = model.kneighbors(X_test)\n",
    "y_pred=[]\n",
    "for i in range(len(X_test)):\n",
    "    nearest_neighbours=indices[i]\n",
    "    healthy=0\n",
    "    sick=0\n",
    "    for neighbour in nearest_neighbours:\n",
    "        if y_train[neighbour]==0:\n",
    "            healthy+=1\n",
    "        else:\n",
    "            sick+=1\n",
    "    if healthy>sick:\n",
    "        y_pred.append(0)\n",
    "    else:\n",
    "        y_pred.append(1)\n",
    "(p,r,f,s) = precision_recall_fscore_support(y_test, y_pred, labels=[0,1])"
   ]
  },
  {
   "cell_type": "code",
   "execution_count": null,
   "id": "0fe41e34",
   "metadata": {},
   "outputs": [],
   "source": [
    "p,r,f,s"
   ]
  },
  {
   "cell_type": "code",
   "execution_count": null,
   "id": "c9050068",
   "metadata": {},
   "outputs": [],
   "source": [
    "print(\"accuracy is \", f[0])"
   ]
  },
  {
   "cell_type": "code",
   "execution_count": null,
   "id": "1640d031",
   "metadata": {},
   "outputs": [],
   "source": [
    "#Adding the code for prediciton on a test dataset:\n",
    "df=pd.read_csv('cleveland-test-sample.csv')\n",
    "df['disease'] = df.disease.apply(lambda x: (1 if x>0 else 0))\n",
    "df.isna()\n",
    "df.dropna()\n",
    "df_filtered=df[df.thal!='?']\n",
    "df_filtered=df_filtered[df_filtered.ca!='?']\n",
    "for column in list(df_filtered.columns)[:-1]:\n",
    "    df_filtered[column] = df_filtered[column].astype(float)\n",
    "df_filtered=(df_filtered-df_filtered.min())/(df_filtered.max()-df_filtered.min())\n",
    "X = df_filtered[['age', 'sex', 'cp', 'trestbps', 'restecg', 'thalach',\n",
    "       'exang', 'oldpeak', 'slope', 'ca', 'thal']].values\n",
    "# X=df_filtered[['trestbps',  'cp']].values\n",
    "Y=df_filtered['disease'].values\n",
    "X_train, X_test, y_train, y_test = train_test_split(X, Y, test_size=0.1,random_state=42)\n",
    "model= NearestNeighbors(n_neighbors=12, metric='euclidean', algorithm='auto').fit(X_train)\n",
    "distances, indices = model.kneighbors(X_test)\n",
    "y_pred=[]\n",
    "for i in range(len(X_test)):\n",
    "    nearest_neighbours=indices[i]\n",
    "    healthy=0\n",
    "    sick=0\n",
    "    for neighbour in nearest_neighbours:\n",
    "        if y_train[neighbour]==0:\n",
    "            healthy+=1\n",
    "        else:\n",
    "            sick+=1\n",
    "    if healthy>sick:\n",
    "        y_pred.append(0)\n",
    "    else:\n",
    "        y_pred.append(1)\n",
    "(p,r,f,s) = precision_recall_fscore_support(y_test, y_pred, labels=[0,1])\n",
    "print(p,r,f,s)"
   ]
  }
 ],
 "metadata": {
  "kernelspec": {
   "display_name": "Python 3 (ipykernel)",
   "language": "python",
   "name": "python3"
  },
  "language_info": {
   "codemirror_mode": {
    "name": "ipython",
    "version": 3
   },
   "file_extension": ".py",
   "mimetype": "text/x-python",
   "name": "python",
   "nbconvert_exporter": "python",
   "pygments_lexer": "ipython3",
   "version": "3.9.12"
  }
 },
 "nbformat": 4,
 "nbformat_minor": 5
}
