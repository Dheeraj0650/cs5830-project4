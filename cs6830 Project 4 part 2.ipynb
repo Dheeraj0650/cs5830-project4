{
 "cells": [
  {
   "cell_type": "code",
   "execution_count": null,
   "id": "1353fe2e",
   "metadata": {},
   "outputs": [],
   "source": [
    "import pandas as pd\n",
    "import numpy as np\n",
    "from sklearn.neighbors import NearestNeighbors\n",
    "import random\n",
    "from scipy import stats\n",
    "from sklearn.model_selection import train_test_split\n",
    "from sklearn.metrics import precision_recall_fscore_support\n",
    "from sklearn.metrics import accuracy_score\n",
    "import matplotlib.pyplot as plt\n",
    "import statistics\n",
    "from sklearn.model_selection import KFold"
   ]
  },
  {
   "cell_type": "code",
   "execution_count": null,
   "id": "5e4ab70f",
   "metadata": {},
   "outputs": [],
   "source": [
    "df = pd.read_csv('iris.data')\n",
    "df['Iris-setosa'].unique()"
   ]
  },
  {
   "cell_type": "code",
   "execution_count": null,
   "id": "8714fc84",
   "metadata": {},
   "outputs": [],
   "source": [
    "df.columns = [\"sepal length\", \"sepal width\", \"petal length\", \"petal width\", \"class\"]\n",
    "print(df['class'].unique)"
   ]
  },
  {
   "cell_type": "code",
   "execution_count": null,
   "id": "55ee1dad",
   "metadata": {},
   "outputs": [],
   "source": [
    "df.columns = [\"sepal length\", \"sepal width\", \"petal length\", \"petal width\", \"class\"]\n",
    "df[\"class\"] = df['class'].apply(lambda x: (1 if x==\"Iris-versicolor\" else 0))"
   ]
  },
  {
   "cell_type": "code",
   "execution_count": null,
   "id": "89785d0d",
   "metadata": {},
   "outputs": [],
   "source": [
    "df"
   ]
  },
  {
   "cell_type": "code",
   "execution_count": null,
   "id": "9d0e4588",
   "metadata": {},
   "outputs": [],
   "source": [
    "df.isna()\n",
    "df.dropna()"
   ]
  },
  {
   "cell_type": "code",
   "execution_count": null,
   "id": "cb11569c",
   "metadata": {},
   "outputs": [],
   "source": [
    "df_filtered=df"
   ]
  },
  {
   "cell_type": "code",
   "execution_count": null,
   "id": "e8849353",
   "metadata": {},
   "outputs": [],
   "source": [
    "print(len(df_filtered[df_filtered['class'] == 1]))"
   ]
  },
  {
   "cell_type": "code",
   "execution_count": null,
   "id": "0dc0f9b0",
   "metadata": {},
   "outputs": [],
   "source": [
    "for column in list(df_filtered.columns)[:-1]:\n",
    "    df_filtered[column] = df_filtered[column].astype(float)"
   ]
  },
  {
   "cell_type": "code",
   "execution_count": null,
   "id": "c5c71fc5",
   "metadata": {},
   "outputs": [],
   "source": [
    "df_filtered=(df_filtered-df_filtered.min())/(df_filtered.max()-df_filtered.min())"
   ]
  },
  {
   "cell_type": "code",
   "execution_count": null,
   "id": "71421910",
   "metadata": {},
   "outputs": [],
   "source": [
    "X = df_filtered[[\"sepal length\", \"sepal width\", \"petal length\", \"petal width\"]].values"
   ]
  },
  {
   "cell_type": "code",
   "execution_count": null,
   "id": "a8915488",
   "metadata": {},
   "outputs": [],
   "source": [
    "Y = df_filtered[['class']].values"
   ]
  },
  {
   "cell_type": "code",
   "execution_count": null,
   "id": "a6b2de36",
   "metadata": {},
   "outputs": [],
   "source": [
    "def evaluate(model,X_train,y_train,labels=[0,1]):\n",
    "    distances, indices = model.kneighbors(X_train)\n",
    "    y_pred=[]\n",
    "    for i in range(len(X_train)):\n",
    "        nearest_neighbours=indices[i]\n",
    "        versicolor=0\n",
    "        nonversicolor=0\n",
    "        for neighbour in nearest_neighbours:\n",
    "            if y_train[neighbour]==1:\n",
    "                versicolor+=1\n",
    "            else:\n",
    "                nonversicolor+=1\n",
    "        if versicolor>nonversicolor:\n",
    "            y_pred.append(1)\n",
    "        else:\n",
    "            y_pred.append(0)\n",
    "    (p,r,f,s) = precision_recall_fscore_support(y_train.values, y_pred, labels=[0, 1])\n",
    "    return (p,r,f,s)"
   ]
  },
  {
   "cell_type": "code",
   "execution_count": null,
   "id": "e304608d",
   "metadata": {},
   "outputs": [],
   "source": [
    "def test(model,y_train,X_test,y_test,labels=[0,1]):\n",
    "    distances, indices = model.kneighbors(X_test)\n",
    "    y_pred=[]\n",
    "    for i in range(len(X_test)):\n",
    "        nearest_neighbours=indices[i]\n",
    "        versicolor=0\n",
    "        nonversicolor=0\n",
    "        for neighbour in nearest_neighbours:\n",
    "            if y_train[neighbour]==1:\n",
    "                versicolor+=1\n",
    "            else:\n",
    "                nonversicolor+=1\n",
    "        if versicolor>nonversicolor:\n",
    "            y_pred.append(1)\n",
    "        else:\n",
    "            y_pred.append(0)\n",
    "    (p,r,f,s) = precision_recall_fscore_support(y_test.values, y_pred, labels=[0, 1])\n",
    "    return (p,r,f,s)"
   ]
  },
  {
   "cell_type": "code",
   "execution_count": null,
   "id": "d5ecf032",
   "metadata": {},
   "outputs": [],
   "source": [
    "import warnings\n",
    "warnings.filterwarnings('ignore')\n",
    "\n",
    "best_f_score_model=[0,0]\n",
    "for i in range(2,10):\n",
    "    kfold = KFold(10)\n",
    "    nn = NearestNeighbors(n_neighbors=i, metric='euclidean', algorithm='auto')\n",
    "    for train, test in kfold.split(X,Y):\n",
    "        X_train,y_train = df_filtered[[\"sepal length\", \"sepal width\", \"petal length\", \"petal width\"]].iloc[train], df_filtered[['class']].iloc[train]\n",
    "        X_test,y_test=df_filtered[[\"sepal length\", \"sepal width\", \"petal length\", \"petal width\"]].iloc[test], df_filtered[['class']].iloc[test]\n",
    "\n",
    "        model=nn.fit(X_train.values)\n",
    "        distances, indices = model.kneighbors(X_test.values)\n",
    "        y_pred=[]\n",
    "        for i in range(len(X_test.values)):\n",
    "            nearest_neighbours=indices[i]\n",
    "            versicolor=0\n",
    "            nonversicolor=0\n",
    "            for neighbour in nearest_neighbours:\n",
    "                if y_train.values[neighbour]==1:\n",
    "                    versicolor+=1\n",
    "                else:\n",
    "                    nonversicolor+=1\n",
    "            if versicolor>nonversicolor:\n",
    "                y_pred.append(1)\n",
    "            else:\n",
    "                y_pred.append(0)\n",
    "        (p,r,f,s) = precision_recall_fscore_support(y_test.values, y_pred, labels=[0,1])\n",
    "\n",
    "        if best_f_score_model[0]<f[0]:\n",
    "            best_f_score_model[0]=max(best_f_score_model[0],f[0])\n",
    "            best_f_score_model[1]=i"
   ]
  },
  {
   "cell_type": "code",
   "execution_count": null,
   "id": "18bdbb51",
   "metadata": {},
   "outputs": [],
   "source": [
    "best_f_score_model"
   ]
  },
  {
   "cell_type": "code",
   "execution_count": null,
   "id": "a10c1395",
   "metadata": {},
   "outputs": [],
   "source": [
    "scores_for_k_value=[]\n",
    "best_f_score_model=[0,0]\n",
    "for i in range(2,len(X)//2):\n",
    "    sample_score_array=[]\n",
    "    kfold = KFold(10)\n",
    "    nn = NearestNeighbors(n_neighbors=i, metric='euclidean', algorithm='auto')\n",
    "    for train, test in kfold.split(X,Y):\n",
    "        X_train,y_train = df_filtered[[\"sepal length\", \"sepal width\", \"petal length\", \"petal width\"]].iloc[train], df_filtered[['class']].iloc[train]\n",
    "        X_test,y_test=df_filtered[[\"sepal length\", \"sepal width\", \"petal length\", \"petal width\"]].iloc[test], df_filtered[['class']].iloc[test]\n",
    "        model=nn.fit(X_train.values)\n",
    "        distances, indices = model.kneighbors(X_test.values)\n",
    "        y_pred=[]\n",
    "        for i in range(len(X_test.values)):\n",
    "            nearest_neighbours=indices[i]\n",
    "            versicolor=0\n",
    "            nonversicolor=0\n",
    "            for neighbour in nearest_neighbours:\n",
    "                if y_train.values[neighbour]==1:\n",
    "                    versicolor+=1\n",
    "                else:\n",
    "                    nonversicolor+=1\n",
    "            if versicolor>nonversicolor:\n",
    "                y_pred.append(1)\n",
    "            else:\n",
    "                y_pred.append(0)\n",
    "                \n",
    "        (p,r,f,s) = precision_recall_fscore_support(y_test.values, y_pred, labels=[0, 1])\n",
    "        sample_score_array.append((p,r,f,s))\n",
    "\n",
    "        print(f'precision={p}, recall={r}, f-score={f}, support={s}')\n",
    "        if best_f_score_model[0]<f[0]:\n",
    "            best_f_score_model[0]=max(best_f_score_model[0],f[0])\n",
    "            best_f_score_model[1]=i\n",
    "    scores_for_k_value.append(sample_score_array)"
   ]
  },
  {
   "cell_type": "code",
   "execution_count": null,
   "id": "3dd9017b",
   "metadata": {},
   "outputs": [],
   "source": [
    "median_scores=[]\n",
    "for k_measure_array in scores_for_k_value:\n",
    "    f1_scores_internal=[]\n",
    "    for scores in k_measure_array:\n",
    "            f1_scores_internal.append(scores[2][0])\n",
    "            f1_scores_internal.sort()\n",
    "    median_scores.append((f1_scores_internal[4]+f1_scores_internal[5])/2)"
   ]
  },
  {
   "cell_type": "code",
   "execution_count": null,
   "id": "07263efd",
   "metadata": {},
   "outputs": [],
   "source": [
    "for i in range(1,len(median_scores)):\n",
    "    print(i+1,median_scores[i])"
   ]
  },
  {
   "cell_type": "code",
   "execution_count": null,
   "id": "a6405ba8",
   "metadata": {},
   "outputs": [],
   "source": [
    "import matplotlib.pyplot as plt\n",
    "plt.plot(range(2,len(X)//2),median_scores)\n",
    "plt.savefig(\"img3.png\")"
   ]
  },
  {
   "cell_type": "code",
   "execution_count": null,
   "id": "e628ce3c",
   "metadata": {},
   "outputs": [],
   "source": [
    "f1_scores=[]\n",
    "for k_measure_array in scores_for_k_value:\n",
    "    score_sum=0\n",
    "    for scores in k_measure_array:\n",
    "            score_sum+=scores[2][0]\n",
    "    score_sum/=10\n",
    "    f1_scores.append(score_sum)"
   ]
  },
  {
   "cell_type": "code",
   "execution_count": null,
   "id": "2f97ad89",
   "metadata": {},
   "outputs": [],
   "source": [
    "for i in range(1,len(f1_scores)):\n",
    "    print(i+1,f1_scores[i])"
   ]
  },
  {
   "cell_type": "code",
   "execution_count": null,
   "id": "c5dbd13b",
   "metadata": {},
   "outputs": [],
   "source": [
    "import matplotlib.pyplot as plt\n",
    "plt.plot(range(2,len(X)//2),f1_scores)\n",
    "plt.savefig(\"img4.png\")"
   ]
  },
  {
   "cell_type": "code",
   "execution_count": null,
   "id": "e308d1df",
   "metadata": {},
   "outputs": [],
   "source": [
    "X = df_filtered[[\"sepal length\", \"sepal width\", \"petal length\", \"petal width\"]].values\n",
    "Y=df_filtered['class'].values\n",
    "X_train, X_test, y_train, y_test = train_test_split(X, Y, test_size=0.1,random_state=42)\n",
    "model= NearestNeighbors(n_neighbors=7, metric='euclidean', algorithm='auto').fit(X_train)\n",
    "distances, indices = model.kneighbors(X_test)\n",
    "y_pred=[]\n",
    "for i in range(len(X_test)):\n",
    "    nearest_neighbours=indices[i]\n",
    "    versicolor=0\n",
    "    nonversicolor=0\n",
    "    for neighbour in nearest_neighbours:\n",
    "        if y_train[neighbour]==1:\n",
    "            versicolor+=1\n",
    "        else:\n",
    "            nonversicolor+=1\n",
    "    if versicolor>nonversicolor:\n",
    "        y_pred.append(1)\n",
    "    else:\n",
    "        y_pred.append(0)\n",
    "(p,r,f,s) = precision_recall_fscore_support(y_test, y_pred, labels=[0,1])"
   ]
  },
  {
   "cell_type": "code",
   "execution_count": null,
   "id": "a1bc6624",
   "metadata": {},
   "outputs": [],
   "source": [
    "p,r,f,s"
   ]
  },
  {
   "cell_type": "code",
   "execution_count": null,
   "id": "7b917074",
   "metadata": {},
   "outputs": [],
   "source": [
    "print(\"accuracy is \", f[0])"
   ]
  }
 ],
 "metadata": {
  "kernelspec": {
   "display_name": "Python 3 (ipykernel)",
   "language": "python",
   "name": "python3"
  },
  "language_info": {
   "codemirror_mode": {
    "name": "ipython",
    "version": 3
   },
   "file_extension": ".py",
   "mimetype": "text/x-python",
   "name": "python",
   "nbconvert_exporter": "python",
   "pygments_lexer": "ipython3",
   "version": "3.9.12"
  }
 },
 "nbformat": 4,
 "nbformat_minor": 5
}
