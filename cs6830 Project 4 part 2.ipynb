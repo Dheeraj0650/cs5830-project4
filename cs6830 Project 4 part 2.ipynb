{
 "cells": [
  {
   "cell_type": "code",
   "execution_count": null,
   "id": "5e2a6cdd",
   "metadata": {},
   "outputs": [],
   "source": [
    "import pandas as pd\n",
    "import numpy as np\n",
    "from sklearn.neighbors import NearestNeighbors\n",
    "import random\n",
    "from scipy import stats\n",
    "from sklearn.model_selection import train_test_split\n",
    "from sklearn.metrics import precision_recall_fscore_support\n",
    "from sklearn.metrics import accuracy_score\n",
    "import matplotlib.pyplot as plt\n",
    "import statistics\n",
    "from sklearn.model_selection import KFold"
   ]
  },
  {
   "cell_type": "code",
   "execution_count": null,
   "id": "4fc2bde1",
   "metadata": {},
   "outputs": [],
   "source": [
    "df = pd.read_csv('iris.data')\n",
    "df['Iris-setosa'].unique()"
   ]
  },
  {
   "cell_type": "code",
   "execution_count": null,
   "id": "2530643f",
   "metadata": {},
   "outputs": [],
   "source": [
    "df.columns = [\"sepal length\", \"sepal width\", \"petal length\", \"petal width\", \"class\"]\n",
    "print(df['class'].unique)"
   ]
  },
  {
   "cell_type": "code",
   "execution_count": null,
   "id": "5577538e",
   "metadata": {},
   "outputs": [],
   "source": [
    "df.columns = [\"sepal length\", \"sepal width\", \"petal length\", \"petal width\", \"class\"]\n",
    "df[\"class\"] = df['class'].apply(lambda x: (1 if x==\"Iris-versicolor\" else 0))"
   ]
  },
  {
   "cell_type": "code",
   "execution_count": null,
   "id": "33fbb086",
   "metadata": {},
   "outputs": [],
   "source": [
    "df"
   ]
  },
  {
   "cell_type": "code",
   "execution_count": null,
   "id": "305af85a",
   "metadata": {},
   "outputs": [],
   "source": [
    "df.isna()\n",
    "df.dropna()"
   ]
  },
  {
   "cell_type": "code",
   "execution_count": null,
   "id": "6736a26d",
   "metadata": {},
   "outputs": [],
   "source": [
    "df_filtered=df"
   ]
  },
  {
   "cell_type": "code",
   "execution_count": null,
   "id": "cdb3d5f4",
   "metadata": {},
   "outputs": [],
   "source": [
    "print(len(df_filtered[df_filtered['class'] == 1]))"
   ]
  },
  {
   "cell_type": "code",
   "execution_count": null,
   "id": "a79ac89d",
   "metadata": {},
   "outputs": [],
   "source": [
    "for column in list(df_filtered.columns)[:-1]:\n",
    "    df_filtered[column] = df_filtered[column].astype(float)"
   ]
  },
  {
   "cell_type": "code",
   "execution_count": null,
   "id": "731aec6d",
   "metadata": {},
   "outputs": [],
   "source": [
    "df_filtered=(df_filtered-df_filtered.min())/(df_filtered.max()-df_filtered.min())"
   ]
  },
  {
   "cell_type": "code",
   "execution_count": null,
   "id": "31d32060",
   "metadata": {},
   "outputs": [],
   "source": [
    "X = df_filtered[[\"sepal length\", \"sepal width\", \"petal length\", \"petal width\"]].values"
   ]
  },
  {
   "cell_type": "code",
   "execution_count": null,
   "id": "5e19d56e",
   "metadata": {},
   "outputs": [],
   "source": [
    "Y = df_filtered[['class']].values"
   ]
  },
  {
   "cell_type": "code",
   "execution_count": null,
   "id": "3004c6a9",
   "metadata": {},
   "outputs": [],
   "source": [
    "def evaluate(model,X_train,y_train,labels=[0,1]):\n",
    "    distances, indices = model.kneighbors(X_train)\n",
    "    y_pred=[]\n",
    "    for i in range(len(X_train)):\n",
    "        nearest_neighbours=indices[i]\n",
    "        versicolor=0\n",
    "        nonversicolor=0\n",
    "        for neighbour in nearest_neighbours:\n",
    "            if y_train[neighbour]==1:\n",
    "                versicolor+=1\n",
    "            else:\n",
    "                nonversicolor+=1\n",
    "        if versicolor>nonversicolor:\n",
    "            y_pred.append(1)\n",
    "        else:\n",
    "            y_pred.append(0)\n",
    "    (p,r,f,s) = precision_recall_fscore_support(y_train.values, y_pred, labels=[0, 1])\n",
    "    return (p,r,f,s)"
   ]
  },
  {
   "cell_type": "code",
   "execution_count": null,
   "id": "bcb9a703",
   "metadata": {},
   "outputs": [],
   "source": [
    "def test(model,y_train,X_test,y_test,labels=[0,1]):\n",
    "    distances, indices = model.kneighbors(X_test)\n",
    "    y_pred=[]\n",
    "    for i in range(len(X_test)):\n",
    "        nearest_neighbours=indices[i]\n",
    "        versicolor=0\n",
    "        nonversicolor=0\n",
    "        for neighbour in nearest_neighbours:\n",
    "            if y_train[neighbour]==1:\n",
    "                versicolor+=1\n",
    "            else:\n",
    "                nonversicolor+=1\n",
    "        if versicolor>nonversicolor:\n",
    "            y_pred.append(1)\n",
    "        else:\n",
    "            y_pred.append(0)\n",
    "    (p,r,f,s) = precision_recall_fscore_support(y_test.values, y_pred, labels=[0, 1])\n",
    "    return (p,r,f,s)"
   ]
  },
  {
   "cell_type": "code",
   "execution_count": null,
   "id": "553f8ec4",
   "metadata": {},
   "outputs": [],
   "source": [
    "import warnings\n",
    "warnings.filterwarnings('ignore')\n",
    "\n",
    "best_f_score_model=[0,0]\n",
    "for i in range(2,10):\n",
    "    kfold = KFold(10)\n",
    "    nn = NearestNeighbors(n_neighbors=i, metric='euclidean', algorithm='auto')\n",
    "    for train, test in kfold.split(X,Y):\n",
    "        X_train,y_train = df_filtered[[\"sepal length\", \"sepal width\", \"petal length\", \"petal width\"]].iloc[train], df_filtered[['class']].iloc[train]\n",
    "        X_test,y_test=df_filtered[[\"sepal length\", \"sepal width\", \"petal length\", \"petal width\"]].iloc[test], df_filtered[['class']].iloc[test]\n",
    "\n",
    "        model=nn.fit(X_train.values)\n",
    "        distances, indices = model.kneighbors(X_test.values)\n",
    "        y_pred=[]\n",
    "        for i in range(len(X_test.values)):\n",
    "            nearest_neighbours=indices[i]\n",
    "            versicolor=0\n",
    "            nonversicolor=0\n",
    "            for neighbour in nearest_neighbours:\n",
    "                if y_train.values[neighbour]==1:\n",
    "                    versicolor+=1\n",
    "                else:\n",
    "                    nonversicolor+=1\n",
    "            if versicolor>nonversicolor:\n",
    "                y_pred.append(1)\n",
    "            else:\n",
    "                y_pred.append(0)\n",
    "        (p,r,f,s) = precision_recall_fscore_support(y_test.values, y_pred, labels=[0,1])\n",
    "\n",
    "        if best_f_score_model[0]<f[0]:\n",
    "            best_f_score_model[0]=max(best_f_score_model[0],f[0])\n",
    "            best_f_score_model[1]=i"
   ]
  },
  {
   "cell_type": "code",
   "execution_count": null,
   "id": "5c018372",
   "metadata": {},
   "outputs": [],
   "source": [
    "best_f_score_model"
   ]
  },
  {
   "cell_type": "code",
   "execution_count": null,
   "id": "f57905b3",
   "metadata": {},
   "outputs": [],
   "source": [
    "scores_for_k_value=[]\n",
    "best_f_score_model=[0,0]\n",
    "for i in range(2,len(X)//2):\n",
    "    sample_score_array=[]\n",
    "    kfold = KFold(2)\n",
    "    nn = NearestNeighbors(n_neighbors=i, metric='euclidean', algorithm='auto')\n",
    "    for train, test in kfold.split(X,Y):\n",
    "        X_train,y_train = df_filtered[[\"sepal length\", \"sepal width\", \"petal length\", \"petal width\"]].iloc[train], df_filtered[['class']].iloc[train]\n",
    "        X_test,y_test=df_filtered[[\"sepal length\", \"sepal width\", \"petal length\", \"petal width\"]].iloc[test], df_filtered[['class']].iloc[test]\n",
    "        model=nn.fit(X_train.values)\n",
    "        distances, indices = model.kneighbors(X_test.values)\n",
    "        y_pred=[]\n",
    "        for i in range(len(X_test.values)):\n",
    "            nearest_neighbours=indices[i]\n",
    "            versicolor=0\n",
    "            nonversicolor=0\n",
    "            for neighbour in nearest_neighbours:\n",
    "                if y_train.values[neighbour]==1:\n",
    "                    versicolor+=1\n",
    "                else:\n",
    "                    nonversicolor+=1\n",
    "            if versicolor>nonversicolor:\n",
    "                y_pred.append(1)\n",
    "            else:\n",
    "                y_pred.append(0)\n",
    "                \n",
    "        (p,r,f,s) = precision_recall_fscore_support(y_test.values, y_pred, labels=[0, 1])\n",
    "        sample_score_array.append((p,r,f,s))\n",
    "\n",
    "        print(f'precision={p}, recall={r}, f-score={f}, support={s}')\n",
    "        if best_f_score_model[0]<f[0]:\n",
    "            best_f_score_model[0]=max(best_f_score_model[0],f[0])\n",
    "            best_f_score_model[1]=i\n",
    "    scores_for_k_value.append(sample_score_array)"
   ]
  },
  {
   "cell_type": "code",
   "execution_count": null,
   "id": "bb2f6d60",
   "metadata": {},
   "outputs": [],
   "source": [
    "X = df_filtered[[\"sepal length\", \"sepal width\", \"petal length\", \"petal width\"]].values\n",
    "Y=df_filtered['class'].values\n",
    "X_train, X_test, y_train, y_test = train_test_split(X, Y, test_size=0.1,random_state=42)\n",
    "model= NearestNeighbors(n_neighbors=30, metric='euclidean', algorithm='auto').fit(X_train)\n",
    "distances, indices = model.kneighbors(X_test)\n",
    "y_pred=[]\n",
    "for i in range(len(X_test)):\n",
    "    nearest_neighbours=indices[i]\n",
    "    versicolor=0\n",
    "    nonversicolor=0\n",
    "    for neighbour in nearest_neighbours:\n",
    "        if y_train[neighbour]==1:\n",
    "            versicolor+=1\n",
    "        else:\n",
    "            nonversicolor+=1\n",
    "    if versicolor>nonversicolor:\n",
    "        y_pred.append(1)\n",
    "    else:\n",
    "        y_pred.append(0)\n",
    "(p,r,f,s) = precision_recall_fscore_support(y_test, y_pred, labels=[0,1])"
   ]
  },
  {
   "cell_type": "code",
   "execution_count": null,
   "id": "b81c8889",
   "metadata": {},
   "outputs": [],
   "source": [
    "p,r,f,s"
   ]
  },
  {
   "cell_type": "code",
   "execution_count": null,
   "id": "d07a955c",
   "metadata": {},
   "outputs": [],
   "source": []
  }
 ],
 "metadata": {
  "kernelspec": {
   "display_name": "Python 3 (ipykernel)",
   "language": "python",
   "name": "python3"
  },
  "language_info": {
   "codemirror_mode": {
    "name": "ipython",
    "version": 3
   },
   "file_extension": ".py",
   "mimetype": "text/x-python",
   "name": "python",
   "nbconvert_exporter": "python",
   "pygments_lexer": "ipython3",
   "version": "3.9.12"
  }
 },
 "nbformat": 4,
 "nbformat_minor": 5
}
